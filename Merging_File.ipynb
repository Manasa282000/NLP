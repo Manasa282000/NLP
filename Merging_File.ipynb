{
 "cells": [
  {
   "cell_type": "code",
   "execution_count": 1,
   "id": "40f0a42b-aa2c-49ac-be01-b17ca07fa42f",
   "metadata": {},
   "outputs": [
    {
     "name": "stdout",
     "output_type": "stream",
     "text": [
      "['tweet 2656.wav', 'tweet_2656.wav']\n",
      "['tweet 5769.wav', 'tweet_5769.wav']\n",
      "['tweet 5773.wav', 'tweet_5773.wav']\n",
      "['tweet 5774.wav', 'tweet_5774.wav']\n",
      "['tweet 5775.wav', 'tweet_5775.wav']\n",
      "['tweet 5776.wav', 'tweet_5776.wav']\n",
      "['tweet 5777.wav', 'tweet_5777.wav']\n",
      "['tweet 5778.wav', 'tweet_5778.wav']\n",
      "['tweet 5779.wav', 'tweet_5779.wav']\n"
     ]
    }
   ],
   "source": [
    "import os\n",
    "\n",
    "# Path to the folder containing the files\n",
    "folder_path = r'C:\\Users\\Manasa Madabhushi\\Python_Projects\\NLP_Data\\converted videos'\n",
    "\n",
    "# Get all files in the folder\n",
    "files = os.listdir(folder_path)\n",
    "\n",
    "# Create a dictionary to store base file names (after removing spaces or other variations)\n",
    "base_names = {}\n",
    "\n",
    "# Loop through all files\n",
    "for file in files:\n",
    "    base_name = file.replace(' ', '_')  # Normalize by replacing spaces with underscores\n",
    "    if base_name not in base_names:\n",
    "        base_names[base_name] = [file]\n",
    "    else:\n",
    "        base_names[base_name].append(file)\n",
    "\n",
    "# Find and print files with duplicates (same base name, different formats)\n",
    "duplicates = {base: names for base, names in base_names.items() if len(names) > 1}\n",
    "\n",
    "# Print the duplicate file names\n",
    "for base, names in duplicates.items():\n",
    "    print(names)\n"
   ]
  },
  {
   "cell_type": "code",
   "execution_count": 1,
   "id": "7382bfbd-2426-42f8-ae13-ec0ceec3e8cf",
   "metadata": {},
   "outputs": [
    {
     "name": "stdout",
     "output_type": "stream",
     "text": [
      "File mapping saved to C:\\Users\\Manasa Madabhushi\\Python_Projects\\NLP_Data\\Final_Data\\file_mapping.xlsx\n"
     ]
    }
   ],
   "source": [
    "import os\n",
    "import re\n",
    "import pandas as pd\n",
    "\n",
    "# Define updated paths\n",
    "transcripts_folder = r'C:\\Users\\Manasa Madabhushi\\Python_Projects\\NLP_Data\\Final_Data\\transcripts_final\\transcripts'\n",
    "mel_spectrograms_folder = r'C:\\Users\\Manasa Madabhushi\\Python_Projects\\NLP_Data\\Final_Data\\mel_spectrograms\\mel_spectrograms'\n",
    "output_excel = r'C:\\Users\\Manasa Madabhushi\\Python_Projects\\NLP_Data\\Final_Data\\file_mapping.xlsx'\n",
    "\n",
    "# Get all text and spectrogram files\n",
    "text_files = [f for f in os.listdir(transcripts_folder) if f.endswith('.txt')]\n",
    "spectrogram_files = [f for f in os.listdir(mel_spectrograms_folder) if f.endswith('.wav.png')]\n",
    "\n",
    "# Function to extract the number from a filename\n",
    "def extract_number(file_name):\n",
    "    match = re.search(r'(\\d+)', file_name)  # Extracts numeric part\n",
    "    return match.group(1) if match else None\n",
    "\n",
    "# Create dictionaries for text and spectrogram files with extracted numbers\n",
    "text_mapping = {extract_number(f): os.path.join(transcripts_folder, f) for f in text_files if extract_number(f)}\n",
    "spectrogram_mapping = {extract_number(f): os.path.join(mel_spectrograms_folder, f) for f in spectrogram_files if extract_number(f)}\n",
    "\n",
    "# Create a list of mappings\n",
    "file_mappings = []\n",
    "for number, text_path in text_mapping.items():\n",
    "    if number in spectrogram_mapping:\n",
    "        file_mappings.append({\n",
    "            'Text File Path': text_path,\n",
    "            'Mel Spectrogram File Path': spectrogram_mapping[number]\n",
    "        })\n",
    "\n",
    "# Convert to DataFrame and save to Excel\n",
    "df = pd.DataFrame(file_mappings)\n",
    "df.to_excel(output_excel, index=False)\n",
    "\n",
    "print(f\"File mapping saved to {output_excel}\")\n"
   ]
  },
  {
   "cell_type": "code",
   "execution_count": null,
   "id": "8adbb348-a7d9-455f-8e45-2b650dd89706",
   "metadata": {},
   "outputs": [],
   "source": []
  }
 ],
 "metadata": {
  "kernelspec": {
   "display_name": "Python 3 (ipykernel)",
   "language": "python",
   "name": "python3"
  },
  "language_info": {
   "codemirror_mode": {
    "name": "ipython",
    "version": 3
   },
   "file_extension": ".py",
   "mimetype": "text/x-python",
   "name": "python",
   "nbconvert_exporter": "python",
   "pygments_lexer": "ipython3",
   "version": "3.11.0"
  }
 },
 "nbformat": 4,
 "nbformat_minor": 5
}
